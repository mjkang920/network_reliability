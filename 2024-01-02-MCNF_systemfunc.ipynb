{
 "cells": [
  {
   "cell_type": "code",
   "execution_count": 3,
   "metadata": {},
   "outputs": [],
   "source": [
    "from gurobipy import Model, GRB, quicksum\n",
    "import networkx as nx\n",
    "import matplotlib.pyplot as plt\n",
    "import networkx as nx  \n",
    "import random"
   ]
  },
  {
   "cell_type": "markdown",
   "metadata": {},
   "source": [
    "### **Generate Random Demand**"
   ]
  },
  {
   "cell_type": "code",
   "execution_count": 4,
   "metadata": {},
   "outputs": [],
   "source": [
    "def random_demand(num_demands=4, nodes=None, min_amount=1, max_amount=None, arc_capacity=None):\n",
    "    if arc_capacity:\n",
    "            max_capacity = max(arc_capacity.values(), default=max_amount)\n",
    "            max_amount = min(max_amount, max_capacity) if max_amount else max_capacity\n",
    "\n",
    "    demand = {}\n",
    "    \n",
    "    if arc_capacity:\n",
    "        max_capacity = max(arc_capacity.values(), default=max_amount)\n",
    "        max_amount = min(max_amount, max_capacity) if max_amount else max_capacity\n",
    "\n",
    "    demand = {}\n",
    "    used_pairs = set() \n",
    "\n",
    "    for k in range(1, num_demands + 1):\n",
    "        while True:\n",
    "            origin, destination = sorted(random.sample(list(nodes.keys()), 2))  # Ensure direction consistency\n",
    "            if (origin, destination) not in used_pairs:\n",
    "                used_pairs.add((origin, destination))  # Mark this pair as used\n",
    "                break\n",
    "\n",
    "        amount = random.randint(min_amount, max_amount)  # Randomly select demand amount\n",
    "\n",
    "        demand[f'k{k}'] = {\n",
    "            'origin': origin,\n",
    "            'destination': destination,\n",
    "            'amount': amount\n",
    "        }\n",
    "        \n",
    "    print(\"Generated Demand:\")\n",
    "    for k, info in demand.items():\n",
    "        print(f\"  {k}: Origin={info['origin']}, Destination={info['destination']}, Amount={info['amount']}\")\n",
    "        \n",
    "    return demand"
   ]
  },
  {
   "cell_type": "code",
   "execution_count": 5,
   "metadata": {},
   "outputs": [
    {
     "name": "stdout",
     "output_type": "stream",
     "text": [
      "Generated Demand:\n",
      "  k1: Origin=n3, Destination=n4, Amount=9\n",
      "  k2: Origin=n1, Destination=n4, Amount=4\n",
      "  k3: Origin=n2, Destination=n3, Amount=4\n",
      "  k4: Origin=n1, Destination=n2, Amount=10\n"
     ]
    }
   ],
   "source": [
    "demand = random_demand(num_demands=4, nodes=nodes, min_amount=1, max_amount=10, arc_capacity=arc_capacity)"
   ]
  },
  {
   "cell_type": "markdown",
   "metadata": {},
   "source": [
    "## **Network Topology**"
   ]
  },
  {
   "cell_type": "code",
   "execution_count": 6,
   "metadata": {},
   "outputs": [
    {
     "name": "stdout",
     "output_type": "stream",
     "text": [
      "\n",
      "Weighted average shortest distance calculation:\n",
      "  Weighted sum of shortest distances: 461.78000000000003\n",
      "  Total demand: 27\n",
      "  Weighted average shortest distance: 17.102962962962962\n",
      "\n",
      "Maximum allowable distance (D_k):\n",
      "D_k = 17.102962962962962\n"
     ]
    },
    {
     "data": {
      "image/png": "[encoded data removed]",
      "text/plain": [
       "<Figure size 600x400 with 1 Axes>"
      ]
     },
     "metadata": {},
     "output_type": "display_data"
    }
   ],
   "source": [
    "nodes = {\n",
    "    \"n1\": (0, 0),\n",
    "    \"n2\": (10, 10),\n",
    "    \"n3\": (10, -10),\n",
    "    \"n4\": (20, 0)\n",
    "}\n",
    "\n",
    "edges = {\n",
    "    'e1': ['n1', 'n2'],\n",
    "    'e2': ['n1', 'n3'],\n",
    "    'e3': ['n2', 'n3'],\n",
    "    'e4': ['n2', 'n4'],\n",
    "    'e5': ['n3', 'n4']\n",
    "}\n",
    "\n",
    "arcs = [(edge[0], edge[1]) for edge in edges.values()]\n",
    "\n",
    "\n",
    "def euclidean_distance(node1, node2):\n",
    "    x1, y1 = nodes[node1]\n",
    "    x2, y2 = nodes[node2]\n",
    "    return round(((x2 - x1)**2 + (y2 - y1)**2)**0.5, 2)\n",
    "\n",
    "arc_distance = {tuple(edge): euclidean_distance(edge[0], edge[1]) for edge in arcs}\n",
    "arc_capacity = {tuple(edge): 10 for edge in arcs}  \n",
    "\n",
    "#demand = {\n",
    "#    'k1': {'origin': 'n1', 'destination': 'n4', 'amount': 18},\n",
    "#    'k2': {'origin': 'n2', 'destination': 'n3', 'amount': 5},\n",
    "#    'k3': {'origin': 'n1', 'destination': 'n3', 'amount': 7},  \n",
    "#    'k4': {'origin': 'n3', 'destination': 'n4', 'amount': 6}   \n",
    "#}\n",
    "\n",
    "G = nx.DiGraph()\n",
    "for node, position in nodes.items():\n",
    "    G.add_node(node, pos=position)\n",
    "for (u, v) in arcs:\n",
    "    distance = arc_distance[(u, v)]\n",
    "    capacity = arc_capacity[(u, v)]\n",
    "    G.add_edge(u, v, weight=distance, capacity=capacity)\n",
    "\n",
    "# Calculate weighted average shortest path distance for D_k\n",
    "weighted_sum = sum(\n",
    "    nx.shortest_path_length(G, source=info['origin'], target=info['destination'], weight='weight') * info['amount']\n",
    "    for info in demand.values()\n",
    ")\n",
    "total_demand = sum(info['amount'] for info in demand.values())\n",
    "average_distance = weighted_sum / total_demand\n",
    "\n",
    "alpha = 1\n",
    "max_distance = average_distance * alpha\n",
    "\n",
    "print(\"\\nWeighted average shortest distance calculation:\")\n",
    "print(f\"  Weighted sum of shortest distances: {weighted_sum}\")\n",
    "print(f\"  Total demand: {total_demand}\")\n",
    "print(f\"  Weighted average shortest distance: {average_distance}\")\n",
    "\n",
    "print(\"\\nMaximum allowable distance (D_k):\")\n",
    "print(f\"D_k = {max_distance}\")\n",
    "\n",
    "\n",
    "comps_st = {0: 1, 1: 1, 2: 1, 3: 0, 4: 1}  \n",
    "\n",
    "\n",
    "plt.figure(figsize=(6, 4))\n",
    "pos = nx.get_node_attributes(G, 'pos')\n",
    "nx.draw(G, pos, with_labels=True, node_size=800, node_color=\"lightblue\", font_size=10, font_weight=\"bold\")\n",
    "edge_labels = {edge: f\"{arc_distance[edge]} km, Cap: {arc_capacity[edge]}\" for edge in arcs}\n",
    "nx.draw_networkx_edge_labels(G, pos, edge_labels=edge_labels, font_size=8, label_pos=0.5)\n",
    "plt.show()"
   ]
  },
  {
   "cell_type": "markdown",
   "metadata": {},
   "source": [
    "## **MCNF system function**"
   ]
  },
  {
   "cell_type": "code",
   "execution_count": 7,
   "metadata": {},
   "outputs": [],
   "source": [
    "def MCNF_systemfunc(comps_st, edges, arcs, arc_capacity, demand, arc_distance, max_distance):\n",
    "    from gurobipy import Model, GRB, quicksum\n",
    "\n",
    "    # Create Gurobi model\n",
    "    model = Model(\"Network Flow Optimization\")\n",
    "\n",
    "    # Define variables\n",
    "    flow = {}\n",
    "    unmet_demand = {}\n",
    "    for k, info in demand.items():\n",
    "        unmet_demand[k] = model.addVar(lb=0, vtype=GRB.CONTINUOUS, name=f\"unsatisfied_{k}\")\n",
    "        for i, j in arcs:\n",
    "            # Determine capacity based on component state\n",
    "            capacity = arc_capacity.get((i, j), 0) * comps_st[arcs.index((i, j))]\n",
    "            flow[k, i, j] = model.addVar(lb=0, ub=capacity, vtype=GRB.CONTINUOUS, name=f\"flow_{k}_{i}_{j}\")\n",
    "\n",
    "    # Objective function: Minimize the percentage of unmet demand relative to total demand\n",
    "    total_demand = sum(info['amount'] for info in demand.values())\n",
    "    model.setObjective(\n",
    "        (quicksum(unmet_demand[k] for k in demand) / total_demand) * 100, GRB.MINIMIZE\n",
    "    )\n",
    "    \n",
    "    # Extract all nodes from edge values\n",
    "    nodes = set(node for edge in edges.values() for node in edge)\n",
    "\n",
    "    # Constraint 1: Flow conservation\n",
    "    for k, info in demand.items():\n",
    "        origin = info['origin']\n",
    "        destination = info['destination']\n",
    "        amount = info['amount']\n",
    "        for node in nodes: \n",
    "            inflow = quicksum(flow[k, i, j] for i, j in arcs if j == node)\n",
    "            outflow = quicksum(flow[k, i, j] for i, j in arcs if i == node)\n",
    "            if node == origin:\n",
    "                model.addConstr(outflow - inflow == amount - unmet_demand[k])\n",
    "            elif node == destination:\n",
    "                model.addConstr(outflow - inflow == -amount + unmet_demand[k])\n",
    "            else:\n",
    "                model.addConstr(outflow - inflow == 0)\n",
    "\n",
    "    # Constraint 2: Arc capacity limits\n",
    "    for i, j in arcs:\n",
    "        model.addConstr(quicksum(flow[k, i, j] for k in demand) <= arc_capacity.get((i, j), 0))\n",
    "\n",
    "    # Constraint 3: Distance limits\n",
    "    for k, info in demand.items():\n",
    "        origin = info['origin']\n",
    "        distance_expr = quicksum(arc_distance.get((i, j), 0) * flow[k, i, j] for i, j in arcs)\n",
    "        total_flow = quicksum(flow[k, i, j] for i, j in arcs if i == origin)\n",
    "        model.addConstr(distance_expr <= max_distance * total_flow)\n",
    "\n",
    "    # Perform optimization\n",
    "    model.optimize()\n",
    "\n",
    "    # Process results\n",
    "    if model.status == GRB.OPTIMAL:\n",
    "        unmet_demand_percentage = model.objVal \n",
    "        flows = {\n",
    "            k: {arc: flow[k, arc[0], arc[1]].X for arc in arcs} for k in demand\n",
    "        }\n",
    "        return unmet_demand_percentage, flows\n",
    "    else:\n",
    "        return None, None\n"
   ]
  },
  {
   "cell_type": "markdown",
   "metadata": {},
   "source": [
    "### **Operate MCNF systemfunction**"
   ]
  },
  {
   "cell_type": "code",
   "execution_count": 8,
   "metadata": {},
   "outputs": [
    {
     "name": "stdout",
     "output_type": "stream",
     "text": [
      "Restricted license - for non-production use only - expires 2026-11-23\n",
      "Gurobi Optimizer version 12.0.0 build v12.0.0rc1 (win64 - Windows 10.0 (19045.2))\n",
      "\n",
      "CPU model: AMD Ryzen 5 3600XT 6-Core Processor, instruction set [SSE2|AVX|AVX2]\n",
      "Thread count: 6 physical cores, 12 logical processors, using up to 12 threads\n",
      "\n",
      "Optimize a model with 25 rows, 24 columns and 88 nonzeros\n",
      "Model fingerprint: 0x59b8dba1\n",
      "Coefficient statistics:\n",
      "  Matrix range     [1e+00, 2e+01]\n",
      "  Objective range  [4e+00, 4e+00]\n",
      "  Bounds range     [1e+01, 1e+01]\n",
      "  RHS range        [4e+00, 1e+01]\n",
      "Presolve removed 25 rows and 24 columns\n",
      "Presolve time: 0.00s\n",
      "Presolve: All rows and columns removed\n",
      "Iteration    Objective       Primal Inf.    Dual Inf.      Time\n",
      "       0    2.9629630e+01   0.000000e+00   0.000000e+00      0s\n",
      "\n",
      "Solved in 0 iterations and 0.01 seconds (0.00 work units)\n",
      "Optimal objective  2.962962963e+01\n",
      "Unmet Demand Percentage: 29.63%\n",
      "Flow Allocation:\n",
      "  Commodity k1:\n",
      "    Flow on ('n3', 'n4'): 9.00\n",
      "  Commodity k2:\n",
      "  Commodity k3:\n",
      "  Commodity k4:\n",
      "    Flow on ('n1', 'n2'): 10.00\n"
     ]
    }
   ],
   "source": [
    "unmet_percentage, flows = MCNF_systemfunc(\n",
    "    comps_st=comps_st,\n",
    "    edges=edges,\n",
    "    arcs=arcs,\n",
    "    arc_capacity=arc_capacity,\n",
    "    demand = demand,\n",
    "    arc_distance=arc_distance,\n",
    "    max_distance=max_distance\n",
    ")\n",
    "\n",
    "if unmet_percentage is not None:\n",
    "    print(f\"Unmet Demand Percentage: {unmet_percentage:.2f}%\")\n",
    "    print(\"Flow Allocation:\")\n",
    "    for k, flow_dict in flows.items():\n",
    "        print(f\"  Commodity {k}:\")\n",
    "        for arc, flow_value in flow_dict.items():\n",
    "            if flow_value > 0:\n",
    "                print(f\"    Flow on {arc}: {flow_value:.2f}\")\n",
    "else:\n",
    "    print(\"Optimization failed or infeasible.\")"
   ]
  }
 ],
 "metadata": {
  "kernelspec": {
   "display_name": "Python 3",
   "language": "python",
   "name": "python3"
  },
  "language_info": {
   "codemirror_mode": {
    "name": "ipython",
    "version": 3
   },
   "file_extension": ".py",
   "mimetype": "text/x-python",
   "name": "python",
   "nbconvert_exporter": "python",
   "pygments_lexer": "ipython3",
   "version": "3.12.6"
  }
 },
 "nbformat": 4,
 "nbformat_minor": 2
}
