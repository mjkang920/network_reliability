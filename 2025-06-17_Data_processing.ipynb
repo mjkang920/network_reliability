{
 "cells": [
  {
   "cell_type": "markdown",
   "id": "40c9612c",
   "metadata": {},
   "source": [
    "#### QGIS -> demand data"
   ]
  },
  {
   "cell_type": "code",
   "execution_count": 16,
   "id": "eab9b4a5",
   "metadata": {},
   "outputs": [
    {
     "name": "stdout",
     "output_type": "stream",
     "text": [
      "saved: demand_data_final.xlsx\n"
     ]
    }
   ],
   "source": [
    "import pandas as pd, networkx as nx, math, os\n",
    "\n",
    "node_path = r\"D:\\MINJI\\NETWORK RELIABILITY\\QGIS\\7.Korea_Full\\1.NODE_export.xlsx\"\n",
    "edge_path = r\"D:\\MINJI\\NETWORK RELIABILITY\\QGIS\\7.Korea_Full\\1.EDGE_export.xlsx\"\n",
    "out_path  = r\"D:\\MINJI\\NETWORK RELIABILITY\\QGIS\\7.Korea_Full\\demand_data_final.xlsx\"\n",
    "\n",
    "edge_df = pd.read_excel(edge_path)\n",
    "node_df = pd.read_excel(node_path)\n",
    "\n",
    "def pt(s):\n",
    "    a=s.replace('Point (','').replace(')','').split(); return float(a[0]),float(a[1])\n",
    "\n",
    "coord = {str(r['node_id']): pt(r['geometry']) for _,r in node_df.iterrows()}\n",
    "\n",
    "kor_name = {}\n",
    "for _,r in edge_df.iterrows():\n",
    "    kor_name[str(r['from_node_'])]=r['from_nod_1']\n",
    "    kor_name[str(r['to_node_id'])]=r['to_node_nm']\n",
    "\n",
    "def segdist(a,b):\n",
    "    if a not in coord or b not in coord: return None\n",
    "    (x1,y1),(x2,y2)=coord[a],coord[b]; return math.hypot(x1-x2,y1-y2)\n",
    "\n",
    "rows=[]\n",
    "for line,g in edge_df.groupby('RLWAY_NM'):\n",
    "    G=nx.DiGraph()\n",
    "    for _,r in g.iterrows():\n",
    "        G.add_edge(str(r['from_node_']),str(r['to_node_id']))\n",
    "    for comp in nx.weakly_connected_components(G):\n",
    "        sg=G.subgraph(comp)\n",
    "        try: path=list(nx.topological_sort(sg))\n",
    "        except nx.NetworkXUnfeasible: continue\n",
    "        for seq in (path, path[::-1]):\n",
    "            n=len(seq)\n",
    "            for i in range(n):\n",
    "                for j in range(i+1,n):\n",
    "                    sub=seq[i:j+1]\n",
    "                    d=sum(segdist(sub[k],sub[k+1]) for k in range(len(sub)-1))\n",
    "                    rows.append([\n",
    "                        line,\n",
    "                        sub[0],sub[-1],\n",
    "                        '-'.join(sub),\n",
    "                        f\"n{sub[0]}\",f\"n{sub[-1]}\",\n",
    "                        kor_name.get(sub[0]),kor_name.get(sub[-1]),\n",
    "                        d\n",
    "                    ])\n",
    "\n",
    "cols=['line','origin','destination','node_path','origin_name',\n",
    "      'destination_name','origin_kor_name','destination_kor_name','distance']\n",
    "pd.DataFrame(rows,columns=cols).drop_duplicates().to_excel(out_path,index=False)\n",
    "print('saved:',os.path.basename(out_path))\n"
   ]
  },
  {
   "cell_type": "markdown",
   "id": "08a2836b",
   "metadata": {},
   "source": [
    "#### 역사별 승하차데이터로 임시 journeys demand data 만들기"
   ]
  },
  {
   "cell_type": "code",
   "execution_count": 24,
   "id": "1e4518b5",
   "metadata": {},
   "outputs": [
    {
     "name": "stdout",
     "output_type": "stream",
     "text": [
      "✔️ 완료: 83개 역을 '4.station_ridership_90node.xlsx'에 저장했습니다.\n"
     ]
    }
   ],
   "source": [
    "import pandas as pd\n",
    "from pathlib import Path\n",
    "\n",
    "# 디렉터리 경로\n",
    "base_dir = Path(r\"D:\\MINJI\\NETWORK RELIABILITY\\QGIS\\7.Korea_Full\")\n",
    "\n",
    "# 1) 역명 → RLNODE_NM 생성\n",
    "ridership_path = base_dir / \"3.station_ridership.xlsx\"\n",
    "ridership_df = pd.read_excel(ridership_path)\n",
    "\n",
    "ridership_df[\"RLNODE_NM\"] = ridership_df[\"역명\"].str.strip() + \"역\"   # 공백 제거 후 '역' 붙이기\n",
    "\n",
    "# 2) 수요 데이터에서 고유 역 이름 추출\n",
    "#   → 2.demand_data_final 의 실제 확장자를 지정하세요 (.xlsx, .csv 등)\n",
    "demand_path = base_dir / \"2.demand_data_final.xlsx\"   # 예: .xlsx인 경우\n",
    "demand_df = pd.read_excel(demand_path)\n",
    "\n",
    "unique_names = pd.unique(                  # 중복 제거\n",
    "    pd.concat([\n",
    "        demand_df[\"origin_kor_name\"].astype(str).str.strip(),\n",
    "        demand_df[\"destination_kor_name\"].astype(str).str.strip()\n",
    "    ])\n",
    ")\n",
    "\n",
    "# 3) 수요에 등장하는 역만 필터링\n",
    "filtered_df = ridership_df[ridership_df[\"RLNODE_NM\"].isin(unique_names)]\n",
    "\n",
    "# 4) 결과 저장\n",
    "output_path = base_dir / \"4.station_ridership_90node.xlsx\"\n",
    "filtered_df.to_excel(output_path, index=False)\n",
    "\n",
    "print(f\"✔️ 완료: {len(filtered_df)}개 역을 '{output_path.name}'에 저장했습니다.\")\n"
   ]
  },
  {
   "cell_type": "code",
   "execution_count": 25,
   "id": "5353ad7b",
   "metadata": {},
   "outputs": [
    {
     "name": "stdout",
     "output_type": "stream",
     "text": [
      "✅ NODE_export에는 있지만 ridership_90에는 없는 역 개수: 7\n",
      "누락된 역 목록: 경기광주역, 삼척역, 신경주역, 여주역, 인천역, 천안아산역(온양온천), 판교역\n"
     ]
    }
   ],
   "source": [
    "import pandas as pd\n",
    "from pathlib import Path\n",
    "\n",
    "# 디렉토리 설정\n",
    "base_dir = Path(r\"D:\\MINJI\\NETWORK RELIABILITY\\QGIS\\7.Korea_Full\")\n",
    "\n",
    "# 파일 경로\n",
    "node_path = base_dir / \"1.NODE_export.xlsx\"\n",
    "ridership_90_path = base_dir / \"4.station_ridership_90node.xlsx\"\n",
    "\n",
    "# 파일 읽기\n",
    "node_df = pd.read_excel(node_path)\n",
    "ridership_90_df = pd.read_excel(ridership_90_path)\n",
    "\n",
    "# RLNODE_NM 열 기준으로 차집합 계산\n",
    "all_nodes = set(node_df[\"RLNODE_NM\"].dropna().astype(str).str.strip())\n",
    "included_nodes = set(ridership_90_df[\"RLNODE_NM\"].dropna().astype(str).str.strip())\n",
    "\n",
    "# NODE_export에만 있고, ridership_90에는 없는 값\n",
    "missing_nodes = sorted(all_nodes - included_nodes)\n",
    "\n",
    "# 결과 출력\n",
    "print(f\"✅ NODE_export에는 있지만 ridership_90에는 없는 역 개수: {len(missing_nodes)}\")\n",
    "print(\"누락된 역 목록:\", ', '.join(missing_nodes))\n"
   ]
  },
  {
   "cell_type": "markdown",
   "id": "623d34b2",
   "metadata": {},
   "source": [
    "#### Journeys data 추가"
   ]
  },
  {
   "cell_type": "code",
   "execution_count": null,
   "id": "b7f6ac4b",
   "metadata": {},
   "outputs": [
    {
     "name": "stdout",
     "output_type": "stream",
     "text": [
      "저장 완료 → 2.demand_data_with_journeys.xlsx\n"
     ]
    }
   ],
   "source": [
    "import pandas as pd\n",
    "import numpy as np\n",
    "\n",
    "base_dir = r\"D:\\MINJI\\NETWORK RELIABILITY\\QGIS\\7.Korea_Full\"\n",
    "\n",
    "demand = pd.read_excel(f\"{base_dir}\\\\2.demand_data_final.xlsx\")\n",
    "stations = pd.read_excel(f\"{base_dir}\\\\4.station_ridership_90node.xlsx\",\n",
    "                         usecols=['RLNODE_NM', '승차인원', '하차인원'])\n",
    "\n",
    "demand = demand.merge(\n",
    "    stations.rename(columns={'RLNODE_NM': 'origin_kor_name', '승차인원': 'O_i'}),\n",
    "    on='origin_kor_name', how='left')\n",
    "\n",
    "demand = demand.merge(\n",
    "    stations.rename(columns={'RLNODE_NM': 'destination_kor_name', '하차인원': 'D_j'}),\n",
    "    on='destination_kor_name', how='left')\n",
    "\n",
    "demand['dist_km'] = demand['distance'] / 1000\n",
    "\n",
    "beta = 1.0\n",
    "demand['w_ij'] = demand['D_j'] / (demand['dist_km'] ** beta)\n",
    "demand['sum_w_i'] = demand.groupby('origin_kor_name')['w_ij'].transform('sum')\n",
    "demand['journeys'] = demand['O_i'] * (demand['w_ij'] / demand['sum_w_i'])\n",
    "\n",
    "demand = demand.drop(columns=['w_ij', 'sum_w_i'])\n",
    "demand.to_excel(f\"{base_dir}\\\\2.demand_data_with_journeys.xlsx\", index=False)\n",
    "print(\"✅ Saved successfully → 2.demand_data_with_journeys.xlsx\")"
   ]
  },
  {
   "cell_type": "markdown",
   "id": "abf76e38",
   "metadata": {},
   "source": [
    "#### Convert to demand_data.json"
   ]
  },
  {
   "cell_type": "code",
   "execution_count": null,
   "id": "ddd98866",
   "metadata": {},
   "outputs": [
    {
     "name": "stdout",
     "output_type": "stream",
     "text": [
      "✅ Saved successfully → D:\\MINJI\\NETWORK RELIABILITY\\QGIS\\7.Korea_Full\\demand_data_kofull.json\n"
     ]
    }
   ],
   "source": [
    "import pandas as pd\n",
    "import json\n",
    "from pathlib import Path\n",
    "\n",
    "base_dir = Path(r\"D:\\MINJI\\NETWORK RELIABILITY\\QGIS\\7.Korea_Full\")\n",
    "excel_path = base_dir / \"2.demand_data_with_journeys.xlsx\"\n",
    "json_path  = base_dir / \"5.demand_data_kofull.json\"\n",
    "\n",
    "cols = [\n",
    "    \"origin\", \"destination\",\n",
    "    \"distance\", \"journeys\",\n",
    "    \"origin_name\", \"destination_name\"\n",
    "]\n",
    "\n",
    "df = pd.read_excel(excel_path, usecols=cols)\n",
    "df[\"distance\"] = df[\"distance\"].astype(float)\n",
    "df[\"journeys\"] = df[\"journeys\"].astype(float)\n",
    "\n",
    "records = df.to_dict(orient=\"records\")\n",
    "with open(json_path, \"w\", encoding=\"utf-8\") as f:\n",
    "    json.dump(records, f, indent=2, ensure_ascii=False)\n",
    "\n",
    "print(f\"Saved successfully → {json_path}\")"
   ]
  }
 ],
 "metadata": {
  "kernelspec": {
   "display_name": "mjkang",
   "language": "python",
   "name": "mjkang"
  },
  "language_info": {
   "codemirror_mode": {
    "name": "ipython",
    "version": 3
   },
   "file_extension": ".py",
   "mimetype": "text/x-python",
   "name": "python",
   "nbconvert_exporter": "python",
   "pygments_lexer": "ipython3",
   "version": "3.13.3"
  }
 },
 "nbformat": 4,
 "nbformat_minor": 5
}
