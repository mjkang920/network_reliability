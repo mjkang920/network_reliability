{
 "cells": [
  {
   "cell_type": "code",
   "execution_count": 43,
   "metadata": {},
   "outputs": [],
   "source": [
    "from pathlib import Path\n",
    "import pandas as pd\n",
    "import json\n",
    "import networkx as nx\n",
    "import matplotlib.pyplot as plt\n",
    "import pdb\n",
    "import pickle\n",
    "import numpy as np\n",
    "from typing_extensions import Annotated\n",
    "import time\n",
    "\n",
    "from mbnpy import model, config, trans, variable, brc, branch, cpm, inference\n",
    "\n",
    "HOME = Path().resolve()\n",
    "\n",
    "%matplotlib inline"
   ]
  },
  {
   "cell_type": "code",
   "execution_count": 44,
   "metadata": {},
   "outputs": [],
   "source": [
    "key = 'od1'\n",
    "thres = 5 # if it takes longer than this, we consider the od pair is disconnected"
   ]
  },
  {
   "cell_type": "code",
   "execution_count": 45,
   "metadata": {},
   "outputs": [
    {
     "name": "stdout",
     "output_type": "stream",
     "text": [
      "scenario to be added later\n"
     ]
    }
   ],
   "source": [
    "# load data\n",
    "cfg = config.Config(HOME.joinpath('C:/Users/Minji Kang/Documents/GitHub/network_reliability/config.json'))"
   ]
  },
  {
   "cell_type": "markdown",
   "metadata": {},
   "source": [
    "# Variable Distribution Setup\n",
    "\n",
    "This section defines the distribution types and parameters for variables in the Bayesian Network model. The variable names follow specific prefixes that indicate their role:\n",
    "\n",
    "| Prefix | Meaning                 | Distribution Type     | Parameters / Description                         |\n",
    "|--------|-------------------------|------------------------|--------------------------------------------------|\n",
    "| `L`    | Primary delay           | Normal Distribution    | Mean ∈ [30, 40], StdDev ∈ [5, 10]                |\n",
    "| `N`    | Number of delayed trains| Normal Distribution    | Mean ∈ [2, 10], StdDev ∈ [1, 3]                  |\n",
    "| `T`    | Total delay time        | Normal Distribution    | Mean ∈ [10, 100], StdDev ∈ [10, 30]              |"
   ]
  },
  {
   "cell_type": "code",
   "execution_count": 46,
   "metadata": {},
   "outputs": [
    {
     "name": "stdout",
     "output_type": "stream",
     "text": [
      "{'L1': {'mean': 33.75, 'std': 9.75, 'type': 'normal'},\n",
      " 'L2': {'type': 'normal'},\n",
      " 'L3': {'type': 'normal'},\n",
      " 'L4': {'type': 'normal'},\n",
      " 'N1': {'mean': 7.86, 'std': 2.2, 'type': 'normal'},\n",
      " 'N2': {'type': 'normal'},\n",
      " 'N3': {'type': 'normal'},\n",
      " 'N4': {'type': 'normal'},\n",
      " 'T1': {'mean': 57.8, 'std': 13.12, 'type': 'normal'},\n",
      " 'T2': {'type': 'normal'},\n",
      " 'T3': {'type': 'normal'},\n",
      " 'T4': {'type': 'normal'}}\n"
     ]
    }
   ],
   "source": [
    "rnd_state = np.random.RandomState(42) \n",
    "\n",
    "probs = {}\n",
    "for node in cfg.infra['nodes'].keys():\n",
    "    if node == \"L1\":\n",
    "        mean = rnd_state.uniform(30, 40)\n",
    "        std = rnd_state.uniform(5, 10)\n",
    "        probs[node] = {\"type\": \"normal\", \"mean\": round(mean, 2), \"std\": round(std, 2)}\n",
    "\n",
    "    elif node.startswith(\"L\"):\n",
    "        probs[node] = {\"type\": \"normal\"}\n",
    "\n",
    "    elif node == \"N1\":\n",
    "        mean = rnd_state.uniform(2, 10)\n",
    "        std = rnd_state.uniform(1, 3)\n",
    "        probs[node] = {\"type\": \"normal\", \"mean\": round(mean, 2), \"std\": round(std, 2)}\n",
    "\n",
    "    elif node.startswith(\"N\"):\n",
    "        probs[node] = {\"type\": \"normal\"}\n",
    "    \n",
    "    elif node == \"T1\":\n",
    "        mean = rnd_state.uniform(50, 100)\n",
    "        std = rnd_state.uniform(10, 30)\n",
    "        probs[node] = {\"type\": \"normal\", \"mean\": round(mean, 2), \"std\": round(std, 2)}\n",
    "\n",
    "    elif node.startswith(\"T\"):\n",
    "        probs[node] = {\"type\": \"normal\"}\n",
    "    \n",
    "    else:\n",
    "        probs[node] = {\"type\": \"unknown\"}\n",
    "# results\n",
    "from pprint import pprint\n",
    "pprint(probs)\n"
   ]
  },
  {
   "cell_type": "markdown",
   "metadata": {},
   "source": [
    "# Modeling\n",
    "<img src='BN.jpg' alt='BN graph' width='400' />"
   ]
  },
  {
   "cell_type": "code",
   "execution_count": 47,
   "metadata": {},
   "outputs": [
    {
     "ename": "KeyError",
     "evalue": "0",
     "output_type": "error",
     "traceback": [
      "\u001b[1;31m---------------------------------------------------------------------------\u001b[0m",
      "\u001b[1;31mKeyError\u001b[0m                                  Traceback (most recent call last)",
      "Cell \u001b[1;32mIn[47], line 7\u001b[0m\n\u001b[0;32m      4\u001b[0m \u001b[38;5;28;01mfor\u001b[39;00m k, v \u001b[38;5;129;01min\u001b[39;00m cfg\u001b[38;5;241m.\u001b[39minfra[\u001b[38;5;124m'\u001b[39m\u001b[38;5;124mnodes\u001b[39m\u001b[38;5;124m'\u001b[39m]\u001b[38;5;241m.\u001b[39mitems():\n\u001b[0;32m      5\u001b[0m     varis[k] \u001b[38;5;241m=\u001b[39m variable\u001b[38;5;241m.\u001b[39mVariable(name\u001b[38;5;241m=\u001b[39mk, values \u001b[38;5;241m=\u001b[39m [\u001b[38;5;124m'\u001b[39m\u001b[38;5;124mf\u001b[39m\u001b[38;5;124m'\u001b[39m, \u001b[38;5;124m'\u001b[39m\u001b[38;5;124ms\u001b[39m\u001b[38;5;124m'\u001b[39m])\n\u001b[0;32m      6\u001b[0m     cpms[k] \u001b[38;5;241m=\u001b[39m cpm\u001b[38;5;241m.\u001b[39mCpm(variables \u001b[38;5;241m=\u001b[39m [varis[k]], no_child\u001b[38;5;241m=\u001b[39m\u001b[38;5;241m1\u001b[39m,\n\u001b[1;32m----> 7\u001b[0m                         C \u001b[38;5;241m=\u001b[39m np\u001b[38;5;241m.\u001b[39marray([\u001b[38;5;241m0\u001b[39m, \u001b[38;5;241m1\u001b[39m])\u001b[38;5;241m.\u001b[39mT, p \u001b[38;5;241m=\u001b[39m [\u001b[43mprobs\u001b[49m\u001b[43m[\u001b[49m\u001b[43mk\u001b[49m\u001b[43m]\u001b[49m\u001b[43m[\u001b[49m\u001b[38;5;241;43m0\u001b[39;49m\u001b[43m]\u001b[49m, probs[k][\u001b[38;5;241m1\u001b[39m]])\n",
      "\u001b[1;31mKeyError\u001b[0m: 0"
     ]
    }
   ],
   "source": [
    "# variables\n",
    "varis = {}\n",
    "cpms = {}\n",
    "for k, v in cfg.infra['nodes'].items():\n",
    "    varis[k] = variable.Variable(name=k, values = ['f', 's'])\n",
    "    cpms[k] = cpm.Cpm(variables = [varis[k]], no_child=1,\n",
    "                        C = np.array([0, 1]).T, p = [probs[k][0], probs[k][1]])"
   ]
  }
 ],
 "metadata": {
  "kernelspec": {
   "display_name": "Python 3",
   "language": "python",
   "name": "python3"
  },
  "language_info": {
   "codemirror_mode": {
    "name": "ipython",
    "version": 3
   },
   "file_extension": ".py",
   "mimetype": "text/x-python",
   "name": "python",
   "nbconvert_exporter": "python",
   "pygments_lexer": "ipython3",
   "version": "3.12.6"
  }
 },
 "nbformat": 4,
 "nbformat_minor": 2
}
