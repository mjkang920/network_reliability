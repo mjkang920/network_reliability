{
 "cells": [
  {
   "cell_type": "code",
   "execution_count": 3,
   "metadata": {},
   "outputs": [
    {
     "name": "stdout",
     "output_type": "stream",
     "text": [
      "c:\\Users\\Minji Kang\\AppData\\Local\\Programs\\Python\\Python311\\python.exe\n"
     ]
    }
   ],
   "source": [
    "import sys\n",
    "print(sys.executable)\n"
   ]
  },
  {
   "cell_type": "code",
   "execution_count": 2,
   "metadata": {},
   "outputs": [
    {
     "ename": "ModuleNotFoundError",
     "evalue": "No module named 'BNS_JT'",
     "output_type": "error",
     "traceback": [
      "\u001b[1;31m---------------------------------------------------------------------------\u001b[0m",
      "\u001b[1;31mModuleNotFoundError\u001b[0m                       Traceback (most recent call last)",
      "Cell \u001b[1;32mIn[2], line 3\u001b[0m\n\u001b[0;32m      1\u001b[0m \u001b[38;5;28;01mimport\u001b[39;00m \u001b[38;5;21;01mnetworkx\u001b[39;00m \u001b[38;5;28;01mas\u001b[39;00m \u001b[38;5;21;01mnx\u001b[39;00m\n\u001b[0;32m      2\u001b[0m \u001b[38;5;28;01mimport\u001b[39;00m \u001b[38;5;21;01mmatplotlib\u001b[39;00m\u001b[38;5;21;01m.\u001b[39;00m\u001b[38;5;21;01mpyplot\u001b[39;00m \u001b[38;5;28;01mas\u001b[39;00m \u001b[38;5;21;01mplt\u001b[39;00m\n\u001b[1;32m----> 3\u001b[0m \u001b[38;5;28;01mfrom\u001b[39;00m \u001b[38;5;21;01mBNS_JT\u001b[39;00m \u001b[38;5;28;01mimport\u001b[39;00m cpm, variable, operation\n\u001b[0;32m      4\u001b[0m \u001b[38;5;28;01mfrom\u001b[39;00m \u001b[38;5;21;01mnetworkx\u001b[39;00m\u001b[38;5;21;01m.\u001b[39;00m\u001b[38;5;21;01malgorithms\u001b[39;00m\u001b[38;5;21;01m.\u001b[39;00m\u001b[38;5;21;01mflow\u001b[39;00m \u001b[38;5;28;01mimport\u001b[39;00m shortest_augmenting_path\n\u001b[0;32m      5\u001b[0m \u001b[38;5;28;01mfrom\u001b[39;00m \u001b[38;5;21;01mBNS_JT\u001b[39;00m \u001b[38;5;28;01mimport\u001b[39;00m brc\n",
      "\u001b[1;31mModuleNotFoundError\u001b[0m: No module named 'BNS_JT'"
     ]
    }
   ],
   "source": [
    "import networkx as nx\n",
    "import matplotlib.pyplot as plt\n",
    "from BNS_JT import cpm, variable, operation\n",
    "from networkx.algorithms.flow import shortest_augmenting_path\n",
    "from BNS_JT import brc\n",
    "import numpy as np\n",
    "import math\n",
    "import random\n"
   ]
  },
  {
   "cell_type": "code",
   "execution_count": null,
   "metadata": {},
   "outputs": [
    {
     "name": "stdout",
     "output_type": "stream",
     "text": [
      "Default Backend before BNS_JT import: TkAgg\n",
      "Backend after BNS_JT import: TkAgg\n"
     ]
    }
   ],
   "source": [
    "import matplotlib\n",
    "print(\"Default Backend before BNS_JT import:\", matplotlib.get_backend())\n",
    "import BNS_JT\n",
    "print(\"Backend after BNS_JT import:\", matplotlib.get_backend())\n"
   ]
  },
  {
   "cell_type": "code",
   "execution_count": null,
   "metadata": {},
   "outputs": [],
   "source": [
    "# 1. 그래프 정의\n",
    "nodes = {\n",
    "    \"n1\": (0, 0), \"n2\": (1.5, 5), \"n3\": (2.8, 2.5), \"n4\": (2.5, 0),\n",
    "    \"n5\": (4.6, 7), \"n6\": (5.5, -0.5), \"n7\": (6.5, 3), \"n8\": (7, -1)\n",
    "}\n",
    "\n",
    "edges = {\n",
    "    \"e1\": (\"n1\", \"n2\"), \"e2\": (\"n1\", \"n3\"), \"e3\": (\"n1\", \"n4\"),\n",
    "    \"e4\": (\"n2\", \"n3\"), \"e5\": (\"n3\", \"n4\"), \"e6\": (\"n5\", \"n2\"),\n",
    "    \"e7\": (\"n5\", \"n3\"), \"e8\": (\"n3\", \"n7\"), \"e9\": (\"n3\", \"n6\"), \n",
    "    \"e10\": (\"n6\", \"n4\"), \"e11\": (\"n5\", \"n7\"), \"e12\": (\"n7\", \"n6\"), \n",
    "    \"e13\": (\"n6\", \"n8\"), \"e14\": (\"n7\", \"n8\")\n",
    "}\n",
    "\n",
    "G = nx.Graph() \n",
    "for node, position in nodes.items():\n",
    "    G.add_node(node, pos=position)\n",
    "for edge_id, (u, v) in edges.items():\n",
    "    pos_u, pos_v = nodes[u], nodes[v]\n",
    "    distance = math.sqrt((pos_u[0] - pos_v[0])**2 + (pos_u[1] - pos_v[1])**2)\n",
    "    G.add_edge(u, v, label=edge_id, flow=0, capacity=2, weight=distance)  # 노드와 노드 사이 거리를 가중치로 설정하여 최단경로탐색 시 더 짧은 거리를 우선순위로 함\n",
    "                                                                          # Issue 1: edge 별 capacity 설정 기준이 없음. 임의의 capacity 2 설정\n",
    "        \n",
    "plt.figure(figsize=(5, 4))\n",
    "pos = nx.get_node_attributes(G, 'pos')\n",
    "edge_labels = nx.get_edge_attributes(G, 'label') \n",
    "nx.draw(G, pos, with_labels=True, node_size=800, node_color=\"lightblue\", font_size=10, font_weight=\"bold\")\n",
    "nx.draw_networkx_edge_labels(G, pos, edge_labels=edge_labels, font_size=8, label_pos=0.5)\n",
    "plt.title(\"Railway Network\", fontsize=15)\n",
    "plt.show()"
   ]
  },
  {
   "cell_type": "markdown",
   "metadata": {},
   "source": [
    "#### Component events\n",
    "\n",
    "The state of the five edges are represented by component events.<br>\n",
    "The edges take binary-state, 0 for non-functional and 1 for functional.<br>\n",
    "\n",
    "To use the BRC algorithm, component events need to be defined as a *variable.Variable* object."
   ]
  },
  {
   "cell_type": "code",
   "execution_count": null,
   "metadata": {},
   "outputs": [
    {
     "ename": "SyntaxError",
     "evalue": "invalid syntax. Perhaps you forgot a comma? (299162190.py, line 8)",
     "output_type": "error",
     "traceback": [
      "\u001b[1;36m  Cell \u001b[1;32mIn[3], line 8\u001b[1;36m\u001b[0m\n\u001b[1;33m    'e4': {0: 0.05, 1: 0.95}, 'e5': {0: 0.10, 1: 0.90}, 'e6': {0: 0.01, 1: 0.99}\u001b[0m\n\u001b[1;37m                                                              ^\u001b[0m\n\u001b[1;31mSyntaxError\u001b[0m\u001b[1;31m:\u001b[0m invalid syntax. Perhaps you forgot a comma?\n"
     ]
    }
   ],
   "source": [
    "varis = {}\n",
    "for k, v in edges.items():\n",
    "    varis[k] = variable.Variable( name=k, values = [0, 1]) # values: edge flow capacity\n",
    "\n",
    "print(varis['e1'])\n",
    "\n",
    "probs = {'e1': {0: 0.01, 1: 0.99}, 'e2': {0: 0.01, 1: 0.99}, 'e3': {0: 0.05, 1: 0.95},\n",
    "         'e4': {0: 0.05, 1: 0.95}, 'e5': {0: 0.10, 1: 0.90}, 'e6': {0: 0.01, 1: 0.99}\n",
    "         'e7': {0: 0.01, 1: 0.99}, 'e8': {0: 0.01, 1: 0.99}, 'e9': {0: 0.05, 1: 0.95},\n",
    "         'e10': {0: 0.01, 1: 0.99}, 'e11': {0: 0.01, 1: 0.99}, 'e12': {0: 0.05, 1: 0.95},\n",
    "         'e13': {0: 0.01, 1: 0.99}, 'e14': {0: 0.01, 1: 0.99}}"
   ]
  },
  {
   "cell_type": "markdown",
   "metadata": {},
   "source": [
    "#### System event\n",
    "\n",
    "System state is evaluated by network connectivity between a designed origin-destination (OD) pair. <br>\n",
    "In other words, a system state is survival if the OD pair is connected; and failure otherwise.\n",
    "\n",
    "<div style=\"margin-top:0;\">\n",
    "This leads to the system function below. <br>\n",
    "<b>NB1</b> <b>The first input</b> of a system function must be <b>a dictionary of components state.</b><br> \n",
    "<b>NB2</b> <b>The outputs</b> must be three: \n",
    "<ul style=\"margin-top:0;\">\n",
    "<li> <em>system value:</em> any format (does not affect the BRC algorithm; just for information's sake); </li>\n",
    "<li> <em>system state:</em> a string, either 's' or 'f'; and </li>\n",
    "<li> <em>components state that guarantees an obtained system state:</em> a dictionary of affecting components OR (if such information unavailable) None.</li>\n",
    "</ul>\n",
    "</div>"
   ]
  },
  {
   "cell_type": "markdown",
   "metadata": {},
   "source": []
  }
 ],
 "metadata": {
  "kernelspec": {
   "display_name": "Python 3",
   "language": "python",
   "name": "python3"
  },
  "language_info": {
   "codemirror_mode": {
    "name": "ipython",
    "version": 3
   },
   "file_extension": ".py",
   "mimetype": "text/x-python",
   "name": "python",
   "nbconvert_exporter": "python",
   "pygments_lexer": "ipython3",
   "version": "3.11.8"
  }
 },
 "nbformat": 4,
 "nbformat_minor": 2
}
