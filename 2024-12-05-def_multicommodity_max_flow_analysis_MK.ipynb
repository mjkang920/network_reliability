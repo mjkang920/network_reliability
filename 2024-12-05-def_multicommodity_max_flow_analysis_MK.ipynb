{
 "cells": [
  {
   "cell_type": "code",
   "execution_count": 63,
   "metadata": {},
   "outputs": [],
   "source": [
    "sys.path.append(r\"C:\\Users\\Minji Kang\\Documents\\GitHub\\network_reliability\")\n",
    "\n",
    "import networkx as nx\n",
    "import matplotlib.pyplot as plt\n",
    "from BNS_JT import cpm, variable, operation\n",
    "from networkx.algorithms.flow import shortest_augmenting_path\n",
    "from BNS_JT import brc\n",
    "import numpy as np\n",
    "import math\n",
    "import random\n"
   ]
  },
  {
   "cell_type": "markdown",
   "metadata": {},
   "source": [
    "### **Network topology**"
   ]
  },
  {
   "cell_type": "code",
   "execution_count": 64,
   "metadata": {},
   "outputs": [],
   "source": [
    "nodes = {\n",
    "    \"n1\": (0, 0), \"n2\": (1.5, 5), \"n3\": (2.8, 2.5), \"n4\": (2.5, 0),\n",
    "    \"n5\": (4.6, 7), \"n6\": (5.5, -0.5), \"n7\": (6.5, 3), \"n8\": (7, -1)\n",
    "}\n",
    "\n",
    "edges = {\n",
    "    \"e1\": (\"n1\", \"n2\"), \"e2\": (\"n1\", \"n3\"), \"e3\": (\"n1\", \"n4\"),\n",
    "    \"e4\": (\"n2\", \"n3\"), \"e5\": (\"n3\", \"n4\"), \"e6\": (\"n5\", \"n2\"),\n",
    "    \"e7\": (\"n5\", \"n3\"), \"e8\": (\"n3\", \"n7\"), \"e9\": (\"n3\", \"n6\"), \n",
    "    \"e10\": (\"n6\", \"n4\"), \"e11\": (\"n5\", \"n7\"), \"e12\": (\"n7\", \"n6\"), \n",
    "    \"e13\": (\"n6\", \"n8\"), \"e14\": (\"n7\", \"n8\")\n",
    "}\n",
    "\n",
    "G = nx.Graph() \n",
    "for node, position in nodes.items():\n",
    "    G.add_node(node, pos=position)\n",
    "for edge_id, (u, v) in edges.items():\n",
    "    pos_u, pos_v = nodes[u], nodes[v]\n",
    "    distance = math.sqrt((pos_u[0] - pos_v[0])**2 + (pos_u[1] - pos_v[1])**2)\n",
    "    G.add_edge(u, v, label=edge_id, flow=0, capacity=2, weight=distance)  # 노드와 노드 사이 거리를 가중치로 설정하여 최단경로탐색 시 더 짧은 거리를 우선순위로 함\n",
    "                                                                          # Issue 1: edge 별 capacity 설정 기준이 없음. 임의의 capacity 2 설정\n",
    "        \n",
    "plt.figure(figsize=(5, 4))\n",
    "pos = nx.get_node_attributes(G, 'pos')\n",
    "edge_labels = nx.get_edge_attributes(G, 'label') \n",
    "nx.draw(G, pos, with_labels=True, node_size=800, node_color=\"lightblue\", font_size=10, font_weight=\"bold\")\n",
    "nx.draw_networkx_edge_labels(G, pos, edge_labels=edge_labels, font_size=8, label_pos=0.5)\n",
    "plt.title(\"Railway Network\", fontsize=15)\n",
    "plt.show()"
   ]
  },
  {
   "cell_type": "markdown",
   "metadata": {},
   "source": [
    "### **Component events**"
   ]
  },
  {
   "cell_type": "code",
   "execution_count": 65,
   "metadata": {},
   "outputs": [
    {
     "name": "stdout",
     "output_type": "stream",
     "text": [
      "'Variable(name=e1, B=[{0}, {1}, {0, 1}], values=[0, 1])'\n"
     ]
    }
   ],
   "source": [
    "varis = {}\n",
    "for k, v in edges.items():\n",
    "    varis[k] = variable.Variable( name=k, values = [0, 1]) # values: edge flow capacity\n",
    "\n",
    "print(varis['e1'])\n",
    "\n",
    "probs = {'e1': {0: 0.01, 1: 0.99}, 'e2': {0: 0.01, 1: 0.99}, 'e3': {0: 0.05, 1: 0.95},\n",
    "         'e4': {0: 0.05, 1: 0.95}, 'e5': {0: 0.10, 1: 0.90}, 'e6': {0: 0.01, 1: 0.99},\n",
    "         'e7': {0: 0.01, 1: 0.99}, 'e8': {0: 0.01, 1: 0.99}, 'e9': {0: 0.05, 1: 0.95},\n",
    "         'e10': {0: 0.01, 1: 0.99}, 'e11': {0: 0.01, 1: 0.99}, 'e12': {0: 0.05, 1: 0.95},\n",
    "         'e13': {0: 0.01, 1: 0.99}, 'e14': {0: 0.01, 1: 0.99}}"
   ]
  },
  {
   "cell_type": "markdown",
   "metadata": {},
   "source": [
    "### **System event**\n",
    "\n",
    "Analyze multi-OD pairs connectivity and flow in a network with edge failures.\n",
    "\n",
    "Input:\n",
    "- comps_st: dict, component states (e.g., edge operational states)\n",
    "- edges: dict, edge definitions (key=edge id, value=(start node, end node))\n",
    "- varis: dict, variable definitions for edge capacities\n",
    "- od_pairs: list, list of (source, target) OD pairs\n",
    "- n_additional_failures: int, number of additional edges to fail\n",
    "\n",
    "Returns:\n",
    "- final_failed_edges: list, final list of failed edge IDs\n",
    "- edge_flows: dict, edge flow and capacity status after processing OD pairs\n",
    "\n",
    "\n",
    "**Issue**\n",
    "- return 할 때 f_val, sys_st, min_comps_st 반환 필요. od pair 1개일 때는 source부터 terminal까지의 path가 없으면 system fail. 그렇다면 od pair가 여러개일 때는 system fail을 어떻게 정의할 것인가?**\n"
   ]
  },
  {
   "cell_type": "code",
   "execution_count": null,
   "metadata": {},
   "outputs": [],
   "source": [
    "def multicommodity_net_conn(comps_st, edges, varis, od_pairs, n_additional_failures=3):\n",
    "\n",
    "    # Initialize network graph\n",
    "    G = nx.Graph()\n",
    "    for k, x in comps_st.items():\n",
    "        G.add_edge(edges[k][0], edges[k][1])\n",
    "        G[edges[k][0]][edges[k][1]]['capacity'] = varis[k].values[x]\n",
    "        G[edges[k][0]][edges[k][1]]['flow'] = 0  # Initialize flow to 0\n",
    "        G[edges[k][0]][edges[k][1]]['label'] = k  # Add edge ID label for reference\n",
    "\n",
    "    # Process OD pairs and update flow\n",
    "    failed_edges = set()\n",
    "    for s, t in od_pairs:\n",
    "        if nx.has_path(G, s, t):\n",
    "            path = nx.shortest_path(G, source=s, target=t, weight='weight')\n",
    "            for i in range(len(path) - 1):\n",
    "                u, v = path[i], path[i + 1]\n",
    "                G[u][v]['flow'] += 1\n",
    "                if G[u][v]['flow'] > G[u][v]['capacity']:\n",
    "                    failed_edges.add(G[u][v]['label'])\n",
    "        else:\n",
    "            print(f\"OD Pair ({s}, {t}) is NOT connected.\")\n",
    "    \n",
    "    ## (for checking results)\n",
    "    print(\"\\nEdge States After Processing All OD Pairs:\")\n",
    "    for u, v, data in G.edges(data=True):\n",
    "        if data['flow'] > data['capacity']:\n",
    "            print(f\"Edge ({u}, {v}): Flow={data['flow']}, Capacity={data['capacity']} - exceeded capacity!\")\n",
    "            failed_edges.add(data['label']) \n",
    "        else:\n",
    "            print(f\"Edge ({u}, {v}): Flow={data['flow']}, Capacity={data['capacity']}\")\n",
    "\n",
    "    # Collect failed edges after initial OD pair processing\n",
    "    failed_edges_list = list(failed_edges)\n",
    "    print(f\"\\nInitial Failed Edges: {failed_edges_list}\")\n",
    "\n",
    "    # Identify additional edges to fail\n",
    "    all_edge_ids = [data['label'] for _, _, data in G.edges(data=True)]\n",
    "    available_edge_ids = [edge_id for edge_id in all_edge_ids if edge_id not in failed_edges]\n",
    "    additional_failed_edges = random.sample(available_edge_ids, n_additional_failures)\n",
    "    print(f\"Additional Failed Edges: {additional_failed_edges}\")\n",
    "\n",
    "    # Remove failed edges from the graph\n",
    "    for edge_id in failed_edges_list + additional_failed_edges:\n",
    "        failed_edge = None\n",
    "        for u, v, data in G.edges(data=True):\n",
    "            if data['label'] == edge_id:\n",
    "                failed_edge = (u, v)\n",
    "                break\n",
    "        if failed_edge and G.has_edge(*failed_edge):\n",
    "            G.remove_edge(*failed_edge)\n",
    "\n",
    "    # Output final failed edges and edge flows\n",
    "    final_failed_edges = failed_edges_list + additional_failed_edges\n",
    "    edge_flows = {f\"{u}-{v}\": {'flow': data['flow'], 'capacity': data['capacity']}\n",
    "                  for u, v, data in G.edges(data=True)}\n",
    "    print\n",
    "    return final_failed_edges, edge_flows"
   ]
  },
  {
   "cell_type": "code",
   "execution_count": 67,
   "metadata": {},
   "outputs": [],
   "source": [
    "sys_fun = lambda comps_st : multicommodity_net_conn(comps_st, edges, varis, od_pairs, n_additional_failures=3)"
   ]
  },
  {
   "cell_type": "markdown",
   "metadata": {},
   "source": [
    "### **Generate random od pairs**"
   ]
  },
  {
   "cell_type": "code",
   "execution_count": 68,
   "metadata": {},
   "outputs": [],
   "source": [
    "od_pairs = []\n",
    "node_list = list(G.nodes)\n",
    "\n",
    "while len(OD_pairs) < 5:  # OD 쌍 개수 설정\n",
    "                          # Issue 2: 수요에 대한 값을 어떻게 정할 것인가?\n",
    "    s = random.choice(node_list)  \n",
    "    t = random.choice(node_list) \n",
    "    if s != t:  \n",
    "        OD_pairs.append((s, t))"
   ]
  },
  {
   "cell_type": "markdown",
   "metadata": {},
   "source": [
    "### **Run BRC**"
   ]
  },
  {
   "cell_type": "code",
   "execution_count": 69,
   "metadata": {},
   "outputs": [
    {
     "name": "stdout",
     "output_type": "stream",
     "text": [
      "\n",
      "Edge States After Processing All OD Pairs:\n",
      "Edge (n1, n2): Flow=0, Capacity=1\n",
      "Edge (n1, n3): Flow=0, Capacity=1\n",
      "Edge (n1, n4): Flow=0, Capacity=1\n",
      "Edge (n2, n3): Flow=0, Capacity=1\n",
      "Edge (n2, n5): Flow=0, Capacity=1\n",
      "Edge (n3, n4): Flow=0, Capacity=1\n",
      "Edge (n3, n5): Flow=0, Capacity=1\n",
      "Edge (n3, n7): Flow=0, Capacity=1\n",
      "Edge (n3, n6): Flow=0, Capacity=1\n",
      "Edge (n4, n6): Flow=0, Capacity=1\n",
      "Edge (n5, n7): Flow=0, Capacity=1\n",
      "Edge (n7, n6): Flow=0, Capacity=1\n",
      "Edge (n7, n8): Flow=0, Capacity=1\n",
      "Edge (n6, n8): Flow=0, Capacity=1\n",
      "\n",
      "Initial Failed Edges: []\n",
      "Additional Failed Edges: ['e2', 'e10', 'e5']\n"
     ]
    },
    {
     "ename": "ValueError",
     "evalue": "not enough values to unpack (expected 3, got 2)",
     "output_type": "error",
     "traceback": [
      "\u001b[1;31m---------------------------------------------------------------------------\u001b[0m",
      "\u001b[1;31mValueError\u001b[0m                                Traceback (most recent call last)",
      "Cell \u001b[1;32mIn[69], line 1\u001b[0m\n\u001b[1;32m----> 1\u001b[0m brs, rules, sys_res, monitor \u001b[38;5;241m=\u001b[39m \u001b[43mbrc\u001b[49m\u001b[38;5;241;43m.\u001b[39;49m\u001b[43mrun\u001b[49m\u001b[43m(\u001b[49m\u001b[43mvaris\u001b[49m\u001b[43m,\u001b[49m\u001b[43m \u001b[49m\u001b[43mprobs\u001b[49m\u001b[43m,\u001b[49m\u001b[43m \u001b[49m\u001b[43msys_fun\u001b[49m\u001b[43m,\u001b[49m\u001b[43m \u001b[49m\u001b[43mmax_sf\u001b[49m\u001b[38;5;241;43m=\u001b[39;49m\u001b[43mnp\u001b[49m\u001b[38;5;241;43m.\u001b[39;49m\u001b[43minf\u001b[49m\u001b[43m,\u001b[49m\u001b[43m \u001b[49m\u001b[43mmax_nb\u001b[49m\u001b[38;5;241;43m=\u001b[39;49m\u001b[43mnp\u001b[49m\u001b[38;5;241;43m.\u001b[39;49m\u001b[43minf\u001b[49m\u001b[43m,\u001b[49m\u001b[43m \u001b[49m\u001b[43mpf_bnd_wr\u001b[49m\u001b[38;5;241;43m=\u001b[39;49m\u001b[38;5;241;43m0.0\u001b[39;49m\u001b[43m)\u001b[49m\n",
      "File \u001b[1;32mc:\\Users\\Minji Kang\\Documents\\GitHub\\network_reliability\\BNS_JT\\brc.py:95\u001b[0m, in \u001b[0;36mrun\u001b[1;34m(varis, probs, sys_fun, max_sf, max_nb, pf_bnd_wr, max_rules, surv_first, rules, brs, display_freq, active_decomp)\u001b[0m\n\u001b[0;32m     92\u001b[0m     \u001b[38;5;28;01mbreak\u001b[39;00m\n\u001b[0;32m     94\u001b[0m \u001b[38;5;28;01melse\u001b[39;00m:\n\u001b[1;32m---> 95\u001b[0m     rule, sys_res_ \u001b[38;5;241m=\u001b[39m \u001b[43mrun_sys_fn\u001b[49m\u001b[43m(\u001b[49m\u001b[43mx_star\u001b[49m\u001b[43m,\u001b[49m\u001b[43m \u001b[49m\u001b[43msys_fun\u001b[49m\u001b[43m,\u001b[49m\u001b[43m \u001b[49m\u001b[43mvaris\u001b[49m\u001b[43m)\u001b[49m \u001b[38;5;66;03m# S4-2, S5\u001b[39;00m\n\u001b[0;32m     97\u001b[0m     rules \u001b[38;5;241m=\u001b[39m update_rule_set(rules, rule) \u001b[38;5;66;03m# S6\u001b[39;00m\n\u001b[0;32m     98\u001b[0m     sys_res \u001b[38;5;241m=\u001b[39m pd\u001b[38;5;241m.\u001b[39mconcat([sys_res, sys_res_], ignore_index\u001b[38;5;241m=\u001b[39m\u001b[38;5;28;01mTrue\u001b[39;00m)\n",
      "File \u001b[1;32mc:\\Users\\Minji Kang\\Documents\\GitHub\\network_reliability\\BNS_JT\\brc.py:359\u001b[0m, in \u001b[0;36mrun_sys_fn\u001b[1;34m(comp, sys_fun, varis)\u001b[0m\n\u001b[0;32m    356\u001b[0m \u001b[38;5;28;01massert\u001b[39;00m \u001b[38;5;28misinstance\u001b[39m(comp, \u001b[38;5;28mdict\u001b[39m), \u001b[38;5;124mf\u001b[39m\u001b[38;5;124m'\u001b[39m\u001b[38;5;124mcomp should be a dict: \u001b[39m\u001b[38;5;132;01m{\u001b[39;00m\u001b[38;5;28mtype\u001b[39m(comp)\u001b[38;5;132;01m}\u001b[39;00m\u001b[38;5;124m'\u001b[39m\n\u001b[0;32m    358\u001b[0m \u001b[38;5;66;03m# S4-2: get system state given comp\u001b[39;00m\n\u001b[1;32m--> 359\u001b[0m sys_val, sys_st, comp_st_min \u001b[38;5;241m=\u001b[39m sys_fun(comp)\n\u001b[0;32m    361\u001b[0m sys_res \u001b[38;5;241m=\u001b[39m pd\u001b[38;5;241m.\u001b[39mDataFrame({\u001b[38;5;124m'\u001b[39m\u001b[38;5;124msys_val\u001b[39m\u001b[38;5;124m'\u001b[39m: [sys_val], \u001b[38;5;124m'\u001b[39m\u001b[38;5;124mcomp_st\u001b[39m\u001b[38;5;124m'\u001b[39m: [comp], \u001b[38;5;124m'\u001b[39m\u001b[38;5;124mcomp_st_min\u001b[39m\u001b[38;5;124m'\u001b[39m: [comp_st_min]})\n\u001b[0;32m    363\u001b[0m \u001b[38;5;28;01mif\u001b[39;00m comp_st_min:\n",
      "\u001b[1;31mValueError\u001b[0m: not enough values to unpack (expected 3, got 2)"
     ]
    }
   ],
   "source": [
    "brs, rules, sys_res, monitor = brc.run(varis, probs, sys_fun, max_sf=np.inf, max_nb=np.inf, pf_bnd_wr=0.0)"
   ]
  }
 ],
 "metadata": {
  "kernelspec": {
   "display_name": "Python 3",
   "language": "python",
   "name": "python3"
  },
  "language_info": {
   "codemirror_mode": {
    "name": "ipython",
    "version": 3
   },
   "file_extension": ".py",
   "mimetype": "text/x-python",
   "name": "python",
   "nbconvert_exporter": "python",
   "pygments_lexer": "ipython3",
   "version": "3.11.8"
  }
 },
 "nbformat": 4,
 "nbformat_minor": 2
}
